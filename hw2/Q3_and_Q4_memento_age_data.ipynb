{
 "cells": [
  {
   "cell_type": "code",
   "execution_count": 2,
   "metadata": {},
   "outputs": [],
   "source": [
    "import pandas as pd\n",
    "import numpy as np\n",
    "import matplotlib.pyplot as plt"
   ]
  },
  {
   "cell_type": "code",
   "execution_count": 3,
   "metadata": {},
   "outputs": [],
   "source": [
    "memento_list = [31, 8, 2, 17, 102, 9, 22, 60903, 13, 4, 32, 3, 1, 17, 40, 8, 135495, 19, 59, 45, 3, 5, 3, 22, 405, 10, 8, 11, 1016, 51, 21, 1, 5, 2, 8, 1, 52, 16, 14, 9126, 4, 6, 4, 8, 1, 225, 8, 1, 1, 7, 9, 7, 4, 2, 7, 1, 3, 4, 4, 5, 5, 46, 3, 16, 4, 23, 24, 141, 17, 83, 10, 6, 2, 2, 20, 9, 6, 18, 1, 10, 159, 98, 4, 106, 7, 47, 2, 2545, 16, 22, 18, 20, 42, 12, 3, 30, 8, 47, 6, 15, 29, 3887, 77, 1677, 3621, 29, 15, 140, 9, 8, 97677, 58, 102, 3858, 3858, 1, 6, 1, 4, 7, 5, 51, 8, 4, 6, 2, 10, 531, 19, 102980, 2, 20, 6, 5, 24, 1, 2, 10, 205, 48, 76, 19, 68, 5, 13, 7, \n",
    "2, 1, 4, 22, 10, 2, 22, 2, 17, 16, 17, 1, 19, 22, 117784, 3, 3, 5, 10, 10, 17, 6, 9, 31, 59, 11, 35, 43, 60, 16151, 36, 35, 47, 34, 156, 3, 50, 35, 32, 305, 42, 11, 30, 7, 173, 29, 108, 10, 8, 4, 3, 1, 13, 2, 13, 223, 1, 2, 4, 21, 1, 2, 3, 3, 1, 4, 184, 2, 311, 18, 3, 1, 2, 6, 1, 21, 2, 2, 20, 496, 15, 4, 1, 1, 11, 4, 8, 1, 12, 14, 23, 3, 11, 25, 42, 1, 4, 16, 7, 10, 6, 35, 13, 2, 1, 1, 1, 5, 21, 21, 3, 18, 1, 807866, 13, 1, 1, 13, 4, 1, 7, 8, 1, 1, 1031664, 2, 1, 19, 13, 5, 59, 1, 1, 1, 1, 2, 2, 58, 3, 1628, 127, 4, 163, 2, 1, 71, 5, 171, 1, 14, 11, 1, 4, 18, 8, 1, 5, 3, 1, 2, 3, 57, 1, 16, 46, 35, 6, 7, 42, 51, 49, 242, 46, 65, 11, 34, 42, 49, 1, 31, 3, 8, 5, 42, 1, 29, 238, 36, 5, 1, 1, 6, 3, 10, 1, 1, 1, 3, 26, 1, 54, 2, 1, 1, 1, 6, 15, 15, 1, 5, 18, 23, 17, 14, 23, 1, 1, 3, 6, 1, 32, 24, 10, 2, 1, 58, 7, 118, 1, 1, 1, 2, 221, 1, 29, 1, 1, 1, 8, 7, 4, 11, 5, 8, 1, 52, 3, 227, 64, 2, 13, 14, 4, 34, 3, 3, 3, 26, 11, 3, 108, 6, 1, 20, 2, 21, 48, 7, 999, 2, 1, 1, 9, 1, 14, 1, 11, 2, 1, 11, 5, 3, 219683, 1, 1, 12, 5, 22, 4, 44, 8, 5, 1, 9, 1, 6, 1, 904, 2, 1, 1, 13, 179, 10, 1, 16, 14, 32, 7, 26, 2, 3, 5, 1, 107, 49, 1, 4, 50, 13, 3, 48, 19, 27, 20, 1, 37, 34, 9, 9]"
   ]
  },
  {
   "cell_type": "code",
   "execution_count": 4,
   "metadata": {},
   "outputs": [
    {
     "name": "stdout",
     "output_type": "stream",
     "text": [
      "<class 'list'> 476\n"
     ]
    }
   ],
   "source": [
    "print(type(memento_list),len(memento_list))"
   ]
  },
  {
   "cell_type": "code",
   "execution_count": 5,
   "metadata": {},
   "outputs": [
    {
     "name": "stdout",
     "output_type": "stream",
     "text": [
      "474\n"
     ]
    }
   ],
   "source": [
    "memento_list.remove(807866)\n",
    "memento_list.remove(1031664)\n",
    "print(len(memento_list))"
   ]
  },
  {
   "cell_type": "code",
   "execution_count": 6,
   "metadata": {},
   "outputs": [
    {
     "data": {
      "text/plain": [
       "0       31\n",
       "1        8\n",
       "2        2\n",
       "3       17\n",
       "4      102\n",
       "      ... \n",
       "469      1\n",
       "470     37\n",
       "471     34\n",
       "472      9\n",
       "473      9\n",
       "Length: 474, dtype: int64"
      ]
     },
     "execution_count": 6,
     "metadata": {},
     "output_type": "execute_result"
    }
   ],
   "source": [
    "memento_series = pd.Series(memento_list) \n",
    "memento_series"
   ]
  },
  {
   "cell_type": "code",
   "execution_count": 7,
   "metadata": {},
   "outputs": [
    {
     "data": {
      "text/plain": [
       "count       474.000000\n",
       "mean       1678.660338\n",
       "std       14787.461714\n",
       "min           1.000000\n",
       "25%           3.000000\n",
       "50%           8.000000\n",
       "75%          28.500000\n",
       "max      219683.000000\n",
       "dtype: float64"
      ]
     },
     "execution_count": 7,
     "metadata": {},
     "output_type": "execute_result"
    }
   ],
   "source": [
    "memento_series.describe()"
   ]
  },
  {
   "cell_type": "code",
   "execution_count": 8,
   "metadata": {},
   "outputs": [
    {
     "data": {
      "text/plain": [
       "array([    31,      8,      2,     17,    102,      9,     22,  60903,\n",
       "           13,      4,     32,      3,      1,     40, 135495,     19,\n",
       "           59,     45,      5,    405,     10,     11,   1016,     51,\n",
       "           21,     52,     16,     14,   9126,      6,    225,      7,\n",
       "           46,     23,     24,    141,     83,     20,     18,    159,\n",
       "           98,    106,     47,   2545,     42,     12,     30,     15,\n",
       "           29,   3887,     77,   1677,   3621,    140,  97677,     58,\n",
       "         3858,    531, 102980,    205,     48,     76,     68, 117784,\n",
       "           35,     43,     60,  16151,     36,     34,    156,     50,\n",
       "          305,    173,    108,    223,    184,    311,    496,     25,\n",
       "         1628,    127,    163,     71,    171,     57,     49,    242,\n",
       "           65,    238,     26,     54,    118,    221,    227,     64,\n",
       "          999, 219683,     44,    904,    179,    107,     27,     37],\n",
       "      dtype=int64)"
      ]
     },
     "execution_count": 8,
     "metadata": {},
     "output_type": "execute_result"
    }
   ],
   "source": [
    "memento_series.unique()"
   ]
  },
  {
   "cell_type": "code",
   "execution_count": 9,
   "metadata": {},
   "outputs": [
    {
     "name": "stdout",
     "output_type": "stream",
     "text": [
      "261\n"
     ]
    }
   ],
   "source": [
    "memento_bin1 = ((memento_series <= 10).sum()) #URIs with 1-10 mementos\n",
    "print(memento_bin1)"
   ]
  },
  {
   "cell_type": "code",
   "execution_count": 10,
   "metadata": {},
   "outputs": [
    {
     "name": "stdout",
     "output_type": "stream",
     "text": [
      "69\n"
     ]
    }
   ],
   "source": [
    "memento_bin1 = (((memento_series > 10) & (memento_series < 21)).sum()) #URIs with 11-20 mementos\n",
    "print(memento_bin1)"
   ]
  },
  {
   "cell_type": "code",
   "execution_count": 11,
   "metadata": {},
   "outputs": [
    {
     "name": "stdout",
     "output_type": "stream",
     "text": [
      "75\n"
     ]
    }
   ],
   "source": [
    "memento_bin1 = (((memento_series > 20) & (memento_series < 51)).sum()) #URIs with 21-50 mementos\n",
    "print(memento_bin1)"
   ]
  },
  {
   "cell_type": "code",
   "execution_count": 12,
   "metadata": {},
   "outputs": [
    {
     "name": "stdout",
     "output_type": "stream",
     "text": [
      "22\n"
     ]
    }
   ],
   "source": [
    "memento_bin1 = (((memento_series > 50) & (memento_series < 101)).sum()) #URIs with 51-100 mementos\n",
    "print(memento_bin1)"
   ]
  },
  {
   "cell_type": "code",
   "execution_count": 13,
   "metadata": {},
   "outputs": [
    {
     "name": "stdout",
     "output_type": "stream",
     "text": [
      "28\n"
     ]
    }
   ],
   "source": [
    "memento_bin1 = (((memento_series > 100) & (memento_series < 501)).sum()) #URIs with 101-500 mementos\n",
    "print(memento_bin1)"
   ]
  },
  {
   "cell_type": "code",
   "execution_count": 14,
   "metadata": {},
   "outputs": [
    {
     "name": "stdout",
     "output_type": "stream",
     "text": [
      "19\n"
     ]
    }
   ],
   "source": [
    "memento_bin1 = (memento_series > 500).sum() #URIs with 501 mementos\n",
    "print(memento_bin1)"
   ]
  },
  {
   "cell_type": "code",
   "execution_count": 15,
   "metadata": {},
   "outputs": [],
   "source": [
    "age_list = [12, 12, 11, 12, 289, 12, 12, 9870, 13, 12, 12, 12, 12, 3561, 1002, 12, 8405, 12, 12, 13, 12, 12, 12, 28, 2740, 11, 12, 13, 4093, 889, 985, 9, 348, 11, 11, 6, 1304, 12, 1905, 1455, 201, 11, 11, 11, 11, 3239, 12, \n",
    "11, 346, 560, 12, 12, 12, 13, 11, 11, 10, 14, 14, 13, 12, 2763, 132, 12, 39, 249, 306, 5736, 24, 927, 13, 14, 12, 10, 12, 1251, 12, 14, 4, 17, 40, 91, 12, 1300, 16, 689, 147, 1026, 16, 16, 18, 13, 40, 12, 11, 14, 11, 12, 11, 156, 13, 327, 352, 188, 9385, 756, 236, 2863, 788, 12, 16001, 929, 3985, 3418, 3418, 12, 11, 12, 12, 12, 11, 831, 11, 12, 360, 360, 12, 1256, 19, 4269, 13, 13, 291, 12, 377, 162, 6, 12, 465, 12, 12, \n",
    "115, 13, 358, 12, 12, 328, 12, 13, 12, 12, 12, 12, 11, 13, 12, 13, 12, 12, 12, 4798, 12, 19, 13, 13, 1052, 1374, 483, 12, 12, 12, 12, 13, 12, 12, 3042, 13, 12, 2194, 12, 13, 33, 12, 12, 12, 2213, 12, 12, 12, 13, \n",
    "4154, 118, 377, 12, 915, 758, 12, 68, 16, 10, 3218, 4539, 467, 91, 1086, 12, 725, 10, 67, 166, 11, 156, 1413, 135, 5076, 14, 36, 9, 4, 892, 9, 1566, 34, 434, 821, 1668, 1169, 11, 3, 582, 54, 12, 210, 3, 1291, 12, 10, 122, 12, 12, 12, 167, 11, 12, 11, 11, 12, 12, 12, 9, 287, 373, 807, 1200, 12, 12, 12, 1280, 11, 13, 74, 5, 349, 422, 7, 925, 33, 12, 174, 5, 49, 1086, 1173, 12, 1191, 186, 16, 12, 166, 633, 121, 2083, 360, 7565, 2338, 13, 1973, 12, 351, 4375, 664, 403, 25, 71, 161, 125, 1086, 274, 192, 270, 463, 1169, 44, 226, 747, 1258, 12, 12, 13, 12, 12, 12, 12, 12, 12, 2943, 12, 12, 12, 12, 12, 12, 162, 12, 12, 11, 11, 14, 154, \n",
    "16, 4246, 14, 12, 12, 12, 1432, 12, 5170, 165, 163, 12, 12, 17, 72, 12, 11, 158, 12, 12, 12, 12, 12, 11, 12, 12, 13, 12, 13, 12, 12, 199, 127, 767, 12, 2187, 1174, 969, 55, 100, 1280, 452, 769, 112, 187, 2, 2, 3713, 5, 2941, 116, 262, 6, 34, 1120, 643, 2301, 730, 480, 12, 2060, 1579, 1902, 5789, 217, 1113, 1118, 596, 1802, 735, 194, 1183, 1213, 528, 517, 8299, 1176, 75, 12, 493, 992, 1251, 230, 1357, 1, 4, 1086, 202, 103, 37, 267, 967, 286, 126, 88, 674, 12, 9112, 1, 12, 36, 11, 12, 12, 12, 11, 81, 12, 12, 2, 983, 138, 740, 12, 10, 12, 223, 9846, 31, 11, 1322, 997, 992, 865, 1476, 1028, 633, 216, 516, 2566, 1022, 5, 1381, 12, 11, 12, 15, 15, 13, 11, 11, 12, 12, 13, 11, 12]"
   ]
  },
  {
   "cell_type": "code",
   "execution_count": 16,
   "metadata": {},
   "outputs": [
    {
     "name": "stdout",
     "output_type": "stream",
     "text": [
      "475\n"
     ]
    }
   ],
   "source": [
    "print(len(age_list))"
   ]
  },
  {
   "cell_type": "code",
   "execution_count": 17,
   "metadata": {},
   "outputs": [
    {
     "data": {
      "text/plain": [
       "0       12\n",
       "1       12\n",
       "2       11\n",
       "3       12\n",
       "4      289\n",
       "      ... \n",
       "470     12\n",
       "471     12\n",
       "472     13\n",
       "473     11\n",
       "474     12\n",
       "Length: 475, dtype: int64"
      ]
     },
     "execution_count": 17,
     "metadata": {},
     "output_type": "execute_result"
    }
   ],
   "source": [
    "age_series = pd.Series(age_list) \n",
    "age_series"
   ]
  },
  {
   "cell_type": "code",
   "execution_count": 18,
   "metadata": {},
   "outputs": [
    {
     "name": "stdout",
     "output_type": "stream",
     "text": [
      "16001\n"
     ]
    }
   ],
   "source": [
    "print(max(age_series))"
   ]
  },
  {
   "cell_type": "code",
   "execution_count": 19,
   "metadata": {},
   "outputs": [
    {
     "name": "stdout",
     "output_type": "stream",
     "text": [
      "17\n"
     ]
    }
   ],
   "source": [
    "age_bool = (age_series < 7).sum()\n",
    "print(age_bool)"
   ]
  },
  {
   "cell_type": "code",
   "execution_count": 20,
   "metadata": {},
   "outputs": [
    {
     "data": {
      "text/html": [
       "<div>\n",
       "<style scoped>\n",
       "    .dataframe tbody tr th:only-of-type {\n",
       "        vertical-align: middle;\n",
       "    }\n",
       "\n",
       "    .dataframe tbody tr th {\n",
       "        vertical-align: top;\n",
       "    }\n",
       "\n",
       "    .dataframe thead th {\n",
       "        text-align: right;\n",
       "    }\n",
       "</style>\n",
       "<table border=\"1\" class=\"dataframe\">\n",
       "  <thead>\n",
       "    <tr style=\"text-align: right;\">\n",
       "      <th></th>\n",
       "      <th>number of mementos</th>\n",
       "      <th>age of URI</th>\n",
       "    </tr>\n",
       "  </thead>\n",
       "  <tbody>\n",
       "    <tr>\n",
       "      <th>0</th>\n",
       "      <td>31.0</td>\n",
       "      <td>12</td>\n",
       "    </tr>\n",
       "    <tr>\n",
       "      <th>1</th>\n",
       "      <td>8.0</td>\n",
       "      <td>12</td>\n",
       "    </tr>\n",
       "    <tr>\n",
       "      <th>2</th>\n",
       "      <td>2.0</td>\n",
       "      <td>11</td>\n",
       "    </tr>\n",
       "    <tr>\n",
       "      <th>3</th>\n",
       "      <td>17.0</td>\n",
       "      <td>12</td>\n",
       "    </tr>\n",
       "    <tr>\n",
       "      <th>4</th>\n",
       "      <td>102.0</td>\n",
       "      <td>289</td>\n",
       "    </tr>\n",
       "  </tbody>\n",
       "</table>\n",
       "</div>"
      ],
      "text/plain": [
       "   number of mementos  age of URI\n",
       "0                31.0          12\n",
       "1                 8.0          12\n",
       "2                 2.0          11\n",
       "3                17.0          12\n",
       "4               102.0         289"
      ]
     },
     "execution_count": 20,
     "metadata": {},
     "output_type": "execute_result"
    }
   ],
   "source": [
    "df = pd.concat([memento_series, age_series], axis=1)\n",
    "df.columns = ['number of mementos', 'age of URI']\n",
    "df.dropna()\n",
    "df.head(5)"
   ]
  },
  {
   "cell_type": "code",
   "execution_count": 21,
   "metadata": {},
   "outputs": [
    {
     "data": {
      "image/png": "[encoded data removed]",
      "text/plain": [
       "<Figure size 640x480 with 1 Axes>"
      ]
     },
     "metadata": {},
     "output_type": "display_data"
    }
   ],
   "source": [
    "plt.scatter(df['age of URI'], df['number of mementos'], alpha = 0.7, edgecolors = 'black')\n",
    "plt.xlabel('Age of each URI')\n",
    "plt.ylabel('Number of mementos')\n",
    "plt.savefig('q4_graph.png')\n",
    "plt.show()"
   ]
  }
 ],
 "metadata": {
  "kernelspec": {
   "display_name": "Python 3",
   "language": "python",
   "name": "python3"
  },
  "language_info": {
   "codemirror_mode": {
    "name": "ipython",
    "version": 3
   },
   "file_extension": ".py",
   "mimetype": "text/x-python",
   "name": "python",
   "nbconvert_exporter": "python",
   "pygments_lexer": "ipython3",
   "version": "3.8.5"
  }
 },
 "nbformat": 4,
 "nbformat_minor": 2
}
